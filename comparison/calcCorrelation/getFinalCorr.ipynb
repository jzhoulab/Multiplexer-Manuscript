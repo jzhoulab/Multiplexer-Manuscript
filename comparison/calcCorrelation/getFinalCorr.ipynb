{
 "cells": [
  {
   "cell_type": "code",
   "execution_count": 13,
   "id": "2d9d9716",
   "metadata": {},
   "outputs": [],
   "source": [
    "import torch"
   ]
  },
  {
   "cell_type": "code",
   "execution_count": 14,
   "id": "9bcc2924",
   "metadata": {},
   "outputs": [
    {
     "data": {
      "text/plain": [
       "0.7741387150623462"
      ]
     },
     "execution_count": 14,
     "metadata": {},
     "output_type": "execute_result"
    }
   ],
   "source": [
    "a = torch.load(\"unet_correlation\")\n",
    "sum(a)/len(a)"
   ]
  },
  {
   "cell_type": "code",
   "execution_count": 15,
   "id": "70158426",
   "metadata": {},
   "outputs": [
    {
     "data": {
      "text/plain": [
       "0.710146657876916"
      ]
     },
     "execution_count": 15,
     "metadata": {},
     "output_type": "execute_result"
    }
   ],
   "source": [
    "b = torch.load(\"Conv_correlation\")\n",
    "sum(b)/len(b)"
   ]
  },
  {
   "cell_type": "code",
   "execution_count": 16,
   "id": "67c4e346",
   "metadata": {},
   "outputs": [
    {
     "data": {
      "text/plain": [
       "0.7558423181275626"
      ]
     },
     "execution_count": 16,
     "metadata": {},
     "output_type": "execute_result"
    }
   ],
   "source": [
    "c = torch.load(\"posenc_correlation\")\n",
    "sum(c)/len(c)"
   ]
  },
  {
   "cell_type": "code",
   "execution_count": 17,
   "id": "7f9a4912",
   "metadata": {},
   "outputs": [
    {
     "data": {
      "text/plain": [
       "0.842908514992936"
      ]
     },
     "execution_count": 17,
     "metadata": {},
     "output_type": "execute_result"
    }
   ],
   "source": [
    "d = torch.load(\"full_correlation\")\n",
    "sum(d)/len(d)"
   ]
  },
  {
   "cell_type": "code",
   "execution_count": null,
   "id": "1e6ce973",
   "metadata": {},
   "outputs": [],
   "source": []
  }
 ],
 "metadata": {
  "kernelspec": {
   "display_name": "Python 3 (ipykernel)",
   "language": "python",
   "name": "python3"
  },
  "language_info": {
   "codemirror_mode": {
    "name": "ipython",
    "version": 3
   },
   "file_extension": ".py",
   "mimetype": "text/x-python",
   "name": "python",
   "nbconvert_exporter": "python",
   "pygments_lexer": "ipython3",
   "version": "3.8.3"
  }
 },
 "nbformat": 4,
 "nbformat_minor": 5
}

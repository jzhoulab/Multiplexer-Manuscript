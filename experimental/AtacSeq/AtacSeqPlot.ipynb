{
 "cells": [
  {
   "cell_type": "markdown",
   "metadata": {},
   "source": [
    "## <big> <b> Section 0: </b> Define Methods </big> "
   ]
  },
  {
   "cell_type": "code",
   "execution_count": null,
   "metadata": {},
   "outputs": [],
   "source": [
    "import math\n",
    "import pyfasta\n",
    "import torch\n",
    "from torch import nn\n",
    "import numpy as np\n",
    "import pandas as pd\n",
    "import random\n",
    "import matplotlib.pyplot as plt\n",
    "\n",
    "\n",
    "\n",
    "genome = pyfasta.Fasta('../../data/hg19.fa')\n",
    "\n",
    "\n",
    "def encode_seq(seq):\n",
    "    \"\"\"\n",
    "    returns an encoded sequence \n",
    "    \n",
    "    Args:\n",
    "        seq: 2000bp sequence\n",
    "    \n",
    "    Returns:\n",
    "        4 x 2000 np.array\n",
    "\n",
    "    \"\"\"\n",
    "\n",
    "    #encode the sequence\n",
    "    mydict = {'A': np.asarray([1, 0, 0, 0]), 'G': np.asarray([0, 1, 0, 0]),\n",
    "            'C': np.asarray([0, 0, 1, 0]), 'T': np.asarray([0, 0, 0, 1]),\n",
    "            'N': np.asarray([0, 0, 0, 0]), 'H': np.asarray([0, 0, 0, 0]),\n",
    "            'a': np.asarray([1, 0, 0, 0]), 'g': np.asarray([0, 1, 0, 0]),\n",
    "            'c': np.asarray([0, 0, 1, 0]), 't': np.asarray([0, 0, 0, 1]),\n",
    "            'n': np.asarray([0, 0, 0, 0]), '-': np.asarray([0, 0, 0, 0])}\n",
    "    \n",
    "\n",
    "    #each column is the encoding for each nucleotide in the original seq\n",
    "    seq_encoded = np.zeros((4, len(seq)))\n",
    "    for i in range(len(seq)):\n",
    "        #this implements the encoding\n",
    "        seq_encoded[:,i] = mydict[seq[i]]\n",
    "\n",
    "\n",
    "        \n",
    "    return torch.from_numpy(seq_encoded)\n",
    "\n",
    "def encoding_to_sequence(x):\n",
    "    ret_string = \"\"\n",
    "    for i in range(2000):\n",
    "        if x[ 0, i] == 1:\n",
    "            ret_string += \"a\"\n",
    "            \n",
    "        elif x[ 1, i] == 1:\n",
    "            ret_string += \"g\"\n",
    "            \n",
    "            \n",
    "        elif x[ 2, i] == 1:\n",
    "            ret_string += \"c\"\n",
    "            \n",
    "            \n",
    "        elif x[ 3, i] == 1:\n",
    "            ret_string += \"t\"\n",
    "        \n",
    "        else:\n",
    "            print(\"none change\")\n",
    "\n",
    "            \n",
    "    return ret_string\n",
    "\n"
   ]
  },
  {
   "cell_type": "markdown",
   "metadata": {},
   "source": [
    "## Section 1: Data Setup"
   ]
  },
  {
   "cell_type": "markdown",
   "metadata": {},
   "source": [
    "a) save sequences"
   ]
  },
  {
   "cell_type": "code",
   "execution_count": 8,
   "metadata": {},
   "outputs": [],
   "source": [
    "data = pd.read_csv('../../data/experimental/AtacSeq.csv')\n",
    "ref_seqs = []\n",
    "alt_seqs = []\n",
    "alt_is_open_positions = [] #a list of indices where the alt is the open allele\n",
    "\n",
    "c = 2\n",
    "for i in range(45071):\n",
    "    CHR = \"chr\" + str(data[\"chr\"][i])\n",
    "    POS = data[\"position\"][i]\n",
    "    seq = genome.sequence({'chr': CHR, 'start': POS - 999 , 'stop': POS + 1000})\n",
    "    \n",
    "    \n",
    "    try:\n",
    "        if seq[999].lower() == data[\"consensus open allele\"][i].lower():\n",
    "            alt_seq = seq[:999] + data[\"consensus closed allele\"][i] + seq[1000:]\n",
    "\n",
    "        elif seq[999].lower() == data[\"consensus closed allele\"][i].lower():\n",
    "            alt_seq = seq[:999] + data[\"consensus open allele\"][i] + seq[1000:]\n",
    "            alt_is_open_positions.append(i)\n",
    "\n",
    "        else:\n",
    "            print(\"error\")\n",
    "    except:\n",
    "        print(i+c)\n",
    "        c = c-1\n",
    "\n",
    "\n",
    "    alt_seqs.append(alt_seq)\n",
    "    ref_seqs.append(seq)\n",
    "    \n",
    "torch.save(ref_seqs, \"./AtacSeqData/ref_seqs\")    \n",
    "torch.save(alt_seqs, \"./AtacSeqData/alt_seqs\")   "
   ]
  },
  {
   "cell_type": "markdown",
   "metadata": {},
   "source": [
    "b) save encoded versions of the sequence"
   ]
  },
  {
   "cell_type": "code",
   "execution_count": 9,
   "metadata": {},
   "outputs": [],
   "source": [
    "encoded_alt_seqs = []\n",
    "encoded_ref_seqs = []\n",
    "\n",
    "for i in range(len(alt_seqs)):\n",
    "    encoded_ref_seq = encode_seq(ref_seqs[i])\n",
    "    encoded_alt_seq = encode_seq(alt_seqs[i])\n",
    "    \n",
    "    \n",
    "    encoded_ref_seqs.append(encoded_ref_seq)\n",
    "    encoded_alt_seqs.append(encoded_alt_seq)\n",
    "    \n",
    "    \n",
    "torch.save(encoded_alt_seqs, \"./AtacSeqData/encoded_alt_seqs\")\n",
    "torch.save(encoded_ref_seqs, \"./AtacSeqData/encoded_ref_seqs\")"
   ]
  },
  {
   "cell_type": "markdown",
   "metadata": {},
   "source": [
    "c) save reverse complement of the encoded sequence"
   ]
  },
  {
   "cell_type": "code",
   "execution_count": 10,
   "metadata": {},
   "outputs": [],
   "source": [
    "encoded_refs = torch.load(\"./AtacSeqData/encoded_ref_seqs\")\n",
    "encoded_alts = torch.load(\"./AtacSeqData/encoded_alt_seqs\")  \n",
    "\n",
    "encoded_refs_reverse_comps = []\n",
    "encoded_alts_reverse_comps = []\n",
    "for i in range(len(encoded_refs)):\n",
    "    ref_revcomp = encoded_refs[i].numpy()[::-1,::-1]\n",
    "    alt_revcomp = encoded_alts[i].numpy()[::-1,::-1]\n",
    "    encoded_refs_reverse_comps.append(torch.from_numpy(ref_revcomp.copy()))\n",
    "    encoded_alts_reverse_comps.append(torch.from_numpy(alt_revcomp.copy()))\n",
    "\n",
    "    \n",
    "torch.save(encoded_refs_reverse_comps, \"./AtacSeqData/encoded_refs_reverse_comps\")\n",
    "torch.save(encoded_alts_reverse_comps, \"./AtacSeqData/encoded_alts_reverse_comps\")"
   ]
  },
  {
   "cell_type": "markdown",
   "metadata": {},
   "source": [
    "### * Use getPreds.py to generate the predictions and Beluga and BelugaMultiplexer"
   ]
  },
  {
   "cell_type": "markdown",
   "metadata": {},
   "source": [
    "## Section 2: Plot Results"
   ]
  },
  {
   "cell_type": "markdown",
   "metadata": {},
   "source": [
    "Run this section AFTER running the getPreds.py file"
   ]
  },
  {
   "cell_type": "code",
   "execution_count": 11,
   "metadata": {},
   "outputs": [
    {
     "data": {
      "image/png": "[encoded data removed]",
      "text/plain": [
       "<Figure size 432x288 with 1 Axes>"
      ]
     },
     "metadata": {
      "needs_background": "light"
     },
     "output_type": "display_data"
    }
   ],
   "source": [
    "import matplotlib.pyplot as plt\n",
    "import torch\n",
    "plt.rcParams['pdf.fonttype'] = 42\n",
    "plt.rcParams['ps.fonttype'] = 42\n",
    "\n",
    "\n",
    "\n",
    "ATACSEQ_beluga_dict = torch.load(\"./AtacSeqData/Beluga_accuracy\")\n",
    "ATACSEQ_BI_dict = torch.load(\"./AtacSeqData/BM_accuracy\")\n",
    "\n",
    "\n",
    "plt.figure()\n",
    "plt.plot( ATACSEQ_beluga_dict[\"margins\"], ATACSEQ_beluga_dict[\"accuracy\"], label=\"Beluga\")\n",
    "plt.plot( ATACSEQ_BI_dict [\"margins\"], ATACSEQ_BI_dict [\"accuracy\"], label=\"Deep Multiplexer\")\n",
    "plt.legend(loc = 4)\n",
    "plt.xlabel(\"Margin\", fontsize = 13)\n",
    "plt.ylabel(\"Accuracy\", fontsize = 13)\n",
    "plt.title(\"ATAC-Seq\", fontsize = 16)\n",
    "plt.savefig('ATACseq.pdf', bbox_inches = 'tight')  \n"
   ]
  },
  {
   "cell_type": "code",
   "execution_count": null,
   "metadata": {},
   "outputs": [],
   "source": []
  }
 ],
 "metadata": {
  "kernelspec": {
   "display_name": "Python 3 (ipykernel)",
   "language": "python",
   "name": "python3"
  },
  "language_info": {
   "codemirror_mode": {
    "name": "ipython",
    "version": 3
   },
   "file_extension": ".py",
   "mimetype": "text/x-python",
   "name": "python",
   "nbconvert_exporter": "python",
   "pygments_lexer": "ipython3",
   "version": "3.8.3"
  }
 },
 "nbformat": 4,
 "nbformat_minor": 4
}

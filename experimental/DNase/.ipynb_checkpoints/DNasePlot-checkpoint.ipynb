{
 "cells": [
  {
   "cell_type": "markdown",
   "metadata": {},
   "source": [
    "## <big> <b> Section 0: </b> Define Methods </big> "
   ]
  },
  {
   "cell_type": "code",
   "execution_count": 1,
   "metadata": {},
   "outputs": [],
   "source": [
    "import math\n",
    "import pyfasta\n",
    "import torch\n",
    "from torch import nn\n",
    "import numpy as np\n",
    "import pandas as pd\n",
    "import h5py\n",
    "import random\n",
    "import matplotlib.pyplot as plt\n",
    "\n",
    "\n",
    "\n",
    "genome = pyfasta.Fasta('../../data/hg19.fa')\n",
    "\n",
    "\n",
    "def encode_seq(seq):\n",
    "    \"\"\"\n",
    "    returns an encoded sequence \n",
    "    \n",
    "    Args:\n",
    "        seq: 2000bp sequence\n",
    "    \n",
    "    Returns:\n",
    "        4 x 2000 np.array\n",
    "\n",
    "    \"\"\"\n",
    "\n",
    "    #encode the sequence\n",
    "    mydict = {'A': np.asarray([1, 0, 0, 0]), 'G': np.asarray([0, 1, 0, 0]),\n",
    "            'C': np.asarray([0, 0, 1, 0]), 'T': np.asarray([0, 0, 0, 1]),\n",
    "            'N': np.asarray([0, 0, 0, 0]), 'H': np.asarray([0, 0, 0, 0]),\n",
    "            'a': np.asarray([1, 0, 0, 0]), 'g': np.asarray([0, 1, 0, 0]),\n",
    "            'c': np.asarray([0, 0, 1, 0]), 't': np.asarray([0, 0, 0, 1]),\n",
    "            'n': np.asarray([0, 0, 0, 0]), '-': np.asarray([0, 0, 0, 0])}\n",
    "    \n",
    "\n",
    "    #each column is the encoding for each nucleotide in the original seq\n",
    "    seq_encoded = np.zeros((4, len(seq)))\n",
    "    for i in range(len(seq)):\n",
    "        #this implements the encoding\n",
    "        seq_encoded[:,i] = mydict[seq[i]]\n",
    "\n",
    "\n",
    "        \n",
    "    return torch.from_numpy(seq_encoded)\n",
    "\n",
    "def encoding_to_sequence(x):\n",
    "    ret_string = \"\"\n",
    "    for i in range(2000):\n",
    "        if x[ 0, i] == 1:\n",
    "            ret_string += \"a\"\n",
    "            \n",
    "        elif x[ 1, i] == 1:\n",
    "            ret_string += \"g\"\n",
    "            \n",
    "            \n",
    "        elif x[ 2, i] == 1:\n",
    "            ret_string += \"c\"\n",
    "            \n",
    "            \n",
    "        elif x[ 3, i] == 1:\n",
    "            ret_string += \"t\"\n",
    "        \n",
    "        else:\n",
    "            print(\"none change\")\n",
    "\n",
    "            \n",
    "    return ret_string\n"
   ]
  },
  {
   "cell_type": "markdown",
   "metadata": {},
   "source": [
    "## <big> <b> Section 1: </b> data setup </big> "
   ]
  },
  {
   "cell_type": "markdown",
   "metadata": {},
   "source": [
    "a) save sequences"
   ]
  },
  {
   "cell_type": "code",
   "execution_count": 2,
   "metadata": {},
   "outputs": [],
   "source": [
    "df = pd.read_csv(\"../../data/experimental/DNasedata.csv\")\n",
    "ref_seqs = []\n",
    "alt_seqs = []\n",
    "\n",
    "\n",
    "for i in range(len(df[\"CHR\"])):\n",
    "    CHR = df[\"CHR\"][i]\n",
    "    POS = df[\"POS\"][i]\n",
    "    seq = genome.sequence({'chr': CHR, 'start': POS - 999 , 'stop': POS + 1000})\n",
    "    ref_seqs.append(seq)\n",
    "    \n",
    "    alt_seq = seq[:999] + df[\"ALT\"][i] + seq[1000:]\n",
    "    alt_seqs.append(alt_seq)\n",
    "    \n",
    "torch.save(ref_seqs, \"./DNaseData/ref_seqs\")    \n",
    "torch.save(alt_seqs, \"./DNaseData/alt_seqs\")               \n"
   ]
  },
  {
   "cell_type": "markdown",
   "metadata": {},
   "source": [
    "b) save encoded versions of the sequence"
   ]
  },
  {
   "cell_type": "code",
   "execution_count": 3,
   "metadata": {},
   "outputs": [],
   "source": [
    "encoded_alt_seqs = []\n",
    "encoded_ref_seqs = []\n",
    "\n",
    "for i in range(len(alt_seqs)):\n",
    "    encoded_ref_seq = encode_seq(ref_seqs[i])\n",
    "    encoded_alt_seq = encode_seq(alt_seqs[i])\n",
    "    \n",
    "    \n",
    "    encoded_ref_seqs.append(encoded_ref_seq)\n",
    "    encoded_alt_seqs.append(encoded_alt_seq)\n",
    "    \n",
    "    \n",
    "torch.save(encoded_alt_seqs, \"./DNaseData/encoded_alt_seqs\")\n",
    "torch.save(encoded_ref_seqs, \"./DNaseData/encoded_ref_seqs\")"
   ]
  },
  {
   "cell_type": "markdown",
   "metadata": {},
   "source": [
    "c) save reverse complement of the encoded sequence"
   ]
  },
  {
   "cell_type": "code",
   "execution_count": 5,
   "metadata": {},
   "outputs": [],
   "source": [
    "encoded_refs = torch.load(\"./DNaseData/encoded_ref_seqs\")\n",
    "encoded_alts = torch.load(\"./DNaseData/encoded_alt_seqs\")  \n",
    "\n",
    "encoded_refs_reverse_comps = []\n",
    "encoded_alts_reverse_comps = []\n",
    "for i in range(len(encoded_refs)):\n",
    "    ref_revcomp = encoded_refs[i].numpy()[::-1,::-1]\n",
    "    alt_revcomp = encoded_alts[i].numpy()[::-1,::-1]\n",
    "    encoded_refs_reverse_comps.append(torch.from_numpy(ref_revcomp.copy()))\n",
    "    encoded_alts_reverse_comps.append(torch.from_numpy(alt_revcomp.copy()))\n",
    "\n",
    "    \n",
    "torch.save(encoded_refs_reverse_comps, \"./DNaseData/encoded_refs_reverse_comps\")\n",
    "torch.save(encoded_alts_reverse_comps, \"./DNaseData/encoded_alts_reverse_comps\")"
   ]
  },
  {
   "cell_type": "markdown",
   "metadata": {},
   "source": [
    "<big><big><big><big> <b>  Section 2: Plot Results </b> </big></big></big></big>"
   ]
  },
  {
   "cell_type": "markdown",
   "metadata": {},
   "source": [
    "Run this section AFTER running the getPreds.py file"
   ]
  },
  {
   "cell_type": "code",
   "execution_count": 7,
   "metadata": {},
   "outputs": [
    {
     "data": {
      "image/png": "[encoded data removed]",
      "text/plain": [
       "<Figure size 432x288 with 1 Axes>"
      ]
     },
     "metadata": {
      "needs_background": "light"
     },
     "output_type": "display_data"
    }
   ],
   "source": [
    "import matplotlib.pyplot as plt\n",
    "import torch\n",
    "plt.rcParams['pdf.fonttype'] = 42\n",
    "plt.rcParams['ps.fonttype'] = 42\n",
    "\n",
    "\n",
    "DNASE_beluga_dict =  torch.load(\"./DNaseData/Beluga_accuracy_dict\")\n",
    "DNASE_BI_dict = torch.load(\"./DNaseData/BM_accuracy_dict\")\n",
    "\n",
    "\n",
    "plt.plot( DNASE_beluga_dict[\"margins\"], DNASE_beluga_dict[\"accuracy\"], label=\"Beluga\")\n",
    "plt.plot( DNASE_BI_dict[\"margins\"], DNASE_BI_dict[\"accuracy\"], label=\"Deep Multiplexer\")\n",
    "plt.legend()\n",
    "plt.xlabel(\"Margin\", fontsize = 13)\n",
    "plt.ylabel(\"Accuracy\", fontsize = 13)\n",
    "plt.title(\"DNAse\", fontsize = 16)\n",
    "plt.savefig('DNAse.pdf', bbox_inches = 'tight')  \n",
    "\n"
   ]
  },
  {
   "cell_type": "code",
   "execution_count": null,
   "metadata": {},
   "outputs": [],
   "source": []
  }
 ],
 "metadata": {
  "kernelspec": {
   "display_name": "Python 3 (ipykernel)",
   "language": "python",
   "name": "python3"
  },
  "language_info": {
   "codemirror_mode": {
    "name": "ipython",
    "version": 3
   },
   "file_extension": ".py",
   "mimetype": "text/x-python",
   "name": "python",
   "nbconvert_exporter": "python",
   "pygments_lexer": "ipython3",
   "version": "3.8.3"
  }
 },
 "nbformat": 4,
 "nbformat_minor": 4
}
